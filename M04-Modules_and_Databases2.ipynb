{
 "cells": [
  {
   "cell_type": "code",
   "execution_count": 2,
   "id": "e7843a5f-e6d4-4f7e-9ff7-e5ac3be5d58a",
   "metadata": {},
   "outputs": [
    {
     "name": "stdout",
     "output_type": "stream",
     "text": [
      "Open 9-5 daily\n"
     ]
    }
   ],
   "source": [
    "# 11.1\n",
    "import zoo\n",
    "zoo.hours()"
   ]
  },
  {
   "cell_type": "code",
   "execution_count": 4,
   "id": "5087390e-8f1b-474c-95f3-bd0c2bb5ac96",
   "metadata": {},
   "outputs": [
    {
     "name": "stdout",
     "output_type": "stream",
     "text": [
      "Open 9-5 daily\n"
     ]
    }
   ],
   "source": [
    "# 11.2\n",
    "import zoo as menagerie\n",
    "menagerie.hours()"
   ]
  },
  {
   "cell_type": "code",
   "execution_count": 6,
   "id": "058b2a0b-3f2e-44bb-8613-fee8ca06b440",
   "metadata": {},
   "outputs": [],
   "source": [
    "# 16.1\n",
    "text = ''' author,book\n",
    "J R R Tolkien,The Hobbit\n",
    "Lynne Truss,\"Eats, Shoots & Leaves\"\n",
    "'''\n",
    "with open('books.csv', 'wt') as outfile:\n",
    "    outfile.write(text)"
   ]
  },
  {
   "cell_type": "code",
   "execution_count": 8,
   "id": "19e86567-1360-4629-a719-aaacb15f99af",
   "metadata": {},
   "outputs": [
    {
     "name": "stdout",
     "output_type": "stream",
     "text": [
      "{' author': 'J R R Tolkien', 'book': 'The Hobbit'}\n",
      "{' author': 'Lynne Truss', 'book': 'Eats, Shoots & Leaves'}\n"
     ]
    }
   ],
   "source": [
    "# 16.2\n",
    "import csv\n",
    "with open('books.csv', 'rt') as infile:\n",
    "    books = csv.DictReader(infile)\n",
    "    for book in books:\n",
    "        print(book)"
   ]
  },
  {
   "cell_type": "code",
   "execution_count": 10,
   "id": "59e1fa5d-f26d-4970-9d61-aa0b2e1b6751",
   "metadata": {},
   "outputs": [],
   "source": [
    "# 16.3\n",
    "text = '''title,author,year\n",
    "The Weirdstone of Brisingamen,Alan Garner,1960\n",
    "Perdido Street Station,China Miéville,2000\n",
    "Thud!,Terry Pratchett,2005\n",
    "The Spellman Files,Lisa Lutz,2007\n",
    "Small Gods,Terry Pratchett,1992\n",
    "'''\n",
    "with open('books2.csv', 'wt') as outfile:\n",
    "    outfile.write(text)"
   ]
  },
  {
   "cell_type": "code",
   "execution_count": 12,
   "id": "ac62e644-5e85-44c5-b882-fc1cef8e9cb7",
   "metadata": {},
   "outputs": [
    {
     "data": {
      "text/plain": [
       "<sqlite3.Cursor at 0x19dbce941c0>"
      ]
     },
     "execution_count": 12,
     "metadata": {},
     "output_type": "execute_result"
    }
   ],
   "source": [
    "# 16.4\n",
    "import sqlite3\n",
    "db = sqlite3.connect('books.db')\n",
    "curs = db.cursor()\n",
    "curs.execute('''create table book (title text, author text, year int)''')"
   ]
  },
  {
   "cell_type": "code",
   "execution_count": 68,
   "id": "dbac76fd-8675-45ae-a976-1c3d5f76920e",
   "metadata": {},
   "outputs": [],
   "source": [
    "# 16.5\n",
    "import csv\n",
    "import sqlite3\n",
    "ins_str = 'insert into book values(?, ?, ?)'\n",
    "with open('books2.csv', 'rt') as infile:\n",
    "    books = csv.DictReader(infile)\n",
    "    for book in books:\n",
    "        curs.execute(ins_str, (book['title'], book['author'], book['year']))"
   ]
  },
  {
   "cell_type": "code",
   "execution_count": 70,
   "id": "0e900d39-85c3-41cd-81ff-c29b78329300",
   "metadata": {},
   "outputs": [],
   "source": [
    "db.commit()"
   ]
  },
  {
   "cell_type": "code",
   "execution_count": 74,
   "id": "56d90c74-fc19-4581-979e-788b09f51113",
   "metadata": {},
   "outputs": [
    {
     "ename": "AttributeError",
     "evalue": "'Engine' object has no attribute 'execute'",
     "output_type": "error",
     "traceback": [
      "\u001b[1;31m---------------------------------------------------------------------------\u001b[0m",
      "\u001b[1;31mAttributeError\u001b[0m                            Traceback (most recent call last)",
      "Cell \u001b[1;32mIn[74], line 5\u001b[0m\n\u001b[0;32m      3\u001b[0m conn \u001b[38;5;241m=\u001b[39m sqlalchemy\u001b[38;5;241m.\u001b[39mcreate_engine(\u001b[38;5;124m'\u001b[39m\u001b[38;5;124msqlite:///books.db\u001b[39m\u001b[38;5;124m'\u001b[39m)\n\u001b[0;32m      4\u001b[0m sql \u001b[38;5;241m=\u001b[39m \u001b[38;5;124m'\u001b[39m\u001b[38;5;124mselect title from book order by title asc\u001b[39m\u001b[38;5;124m'\u001b[39m\n\u001b[1;32m----> 5\u001b[0m results \u001b[38;5;241m=\u001b[39m conn\u001b[38;5;241m.\u001b[39mexecute(sql)\n\u001b[0;32m      6\u001b[0m \u001b[38;5;28;01mfor\u001b[39;00m row \u001b[38;5;129;01min\u001b[39;00m results:\n\u001b[0;32m      7\u001b[0m     \u001b[38;5;28mprint\u001b[39m(row)\n",
      "\u001b[1;31mAttributeError\u001b[0m: 'Engine' object has no attribute 'execute'"
     ]
    }
   ],
   "source": [
    "# 16.8\n",
    "import sqlalchemy\n",
    "conn = sqlalchemy.create_engine('sqlite:///books.db')\n",
    "sql = 'select title from book order by title asc'\n",
    "results = conn.execute(sql)\n",
    "for row in results:\n",
    "    print(row)"
   ]
  },
  {
   "cell_type": "code",
   "execution_count": null,
   "id": "10646e72-cc75-47d7-be15-dde9d0be515b",
   "metadata": {},
   "outputs": [],
   "source": []
  }
 ],
 "metadata": {
  "kernelspec": {
   "display_name": "Python 3 (ipykernel)",
   "language": "python",
   "name": "python3"
  },
  "language_info": {
   "codemirror_mode": {
    "name": "ipython",
    "version": 3
   },
   "file_extension": ".py",
   "mimetype": "text/x-python",
   "name": "python",
   "nbconvert_exporter": "python",
   "pygments_lexer": "ipython3",
   "version": "3.11.7"
  }
 },
 "nbformat": 4,
 "nbformat_minor": 5
}
